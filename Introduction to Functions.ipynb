{
 "cells": [
  {
   "cell_type": "markdown",
   "metadata": {
    "hideCode": false,
    "hidePrompt": false,
    "slideshow": {
     "slide_type": "slide"
    }
   },
   "source": [
    "# FSETC Workshops: Introduction to Functions in MATLAB\n",
    "*Functions* are a way for programmers to generalize some piece of code so that it can be reused. Functions isolate the implementation details and variables used from your main program.\n",
    "\n",
    "[Demo Example](https://mybinder.org/v2/gh/rubenv/jupyter-octave.git/master?urlpath=lab/)"
   ]
  },
  {
   "cell_type": "markdown",
   "metadata": {
    "hideCode": false,
    "hidePrompt": false,
    "slideshow": {
     "slide_type": "slide"
    }
   },
   "source": [
    "## Anonymous Functions\n",
    "*Anonymous functions* are the simplest possible function. They can only be on one line, and therefore can only be one executable statement. The following creates an anonymous function called `func`, that takes one input called `input`. Read the full documentation [here](https://www.mathworks.com/help/matlab/matlab_prog/anonymous-functions.html).\n",
    "\n",
    "\n",
    "```octave\n",
    "func = @(input) outputStatement;\n",
    "```"
   ]
  },
  {
   "cell_type": "markdown",
   "metadata": {
    "hideCode": false,
    "hidePrompt": false,
    "slideshow": {
     "slide_type": "slide"
    }
   },
   "source": [
    "### Example\n",
    "Let's create a function that computes the square of the input."
   ]
  },
  {
   "cell_type": "code",
   "execution_count": 1,
   "metadata": {
    "hideCode": false,
    "hidePrompt": false,
    "slideshow": {
     "slide_type": "-"
    }
   },
   "outputs": [
    {
     "name": "stdout",
     "output_type": "stream",
     "text": [
      "ans =  14.012\n"
     ]
    }
   ],
   "source": [
    "f = @(x) sin(3.*x) + 15;\n",
    "f(10)"
   ]
  },
  {
   "cell_type": "markdown",
   "metadata": {
    "hideCode": false,
    "hidePrompt": false,
    "slideshow": {
     "slide_type": "slide"
    }
   },
   "source": [
    "### What's the deal with the `.`?\n",
    "* MATLAB defaults all operations to matrix operations\n",
    "* If we want to square all the elements in a list, use the `dot` to do element-wise operations\n",
    "(Visual to show the difference)"
   ]
  },
  {
   "cell_type": "code",
   "execution_count": 2,
   "metadata": {
    "hideCode": false,
    "hidePrompt": false,
    "scrolled": true
   },
   "outputs": [
    {
     "name": "stdout",
     "output_type": "stream",
     "text": [
      "ans =\n",
      "\n",
      "   1   4\n",
      "\n"
     ]
    }
   ],
   "source": [
    "f = @(x) x.^2;\n",
    "f([1, 2])"
   ]
  },
  {
   "cell_type": "markdown",
   "metadata": {
    "hideCode": false,
    "hidePrompt": false,
    "slideshow": {
     "slide_type": "slide"
    }
   },
   "source": [
    "## Regular Functions\n",
    "* The following is the MATLAB syntax for defining a function. You can see the full documentation [here](https://www.mathworks.com/help/matlab/ref/function.html).\n",
    "\n",
    "```octave\n",
    "function [output] = functionName(input)\n",
    "    output = %set function output\n",
    "end\n",
    "```"
   ]
  },
  {
   "cell_type": "markdown",
   "metadata": {
    "hideCode": false,
    "hidePrompt": false,
    "slideshow": {
     "slide_type": "slide"
    }
   },
   "source": [
    "## Simple Example\n",
    "Let's define a very simple function that adds two input arguments. The function will be called `add`. The function will take two input arguments, `a` and `b`, and will return the result, `c`."
   ]
  },
  {
   "cell_type": "code",
   "execution_count": 3,
   "metadata": {
    "hideCode": false,
    "hidePrompt": false,
    "scrolled": true
   },
   "outputs": [
    {
     "name": "stdout",
     "output_type": "stream",
     "text": [
      "ans =  3\n"
     ]
    }
   ],
   "source": [
    "function [c] = add(a, b)\n",
    "    c = a + b;\n",
    "end\n",
    "add(1, 2)"
   ]
  },
  {
   "cell_type": "markdown",
   "metadata": {
    "hideCode": false,
    "hidePrompt": false,
    "slideshow": {
     "slide_type": "slide"
    }
   },
   "source": [
    "### Summation Example\n",
    "\n",
    "$$\n",
    "\\sum_{i=1}^N x_i\n",
    "$$"
   ]
  },
  {
   "cell_type": "code",
   "execution_count": 4,
   "metadata": {
    "hideCode": false,
    "hidePrompt": false
   },
   "outputs": [
    {
     "name": "stdout",
     "output_type": "stream",
     "text": [
      "ans =  6\n"
     ]
    }
   ],
   "source": [
    "function [total] = mySum(items)\n",
    "    total = 0; % Initialize the summation\n",
    "    for i = 1:length(items)\n",
    "        total = total + items(i); % get the ith item; add to the total\n",
    "    end\n",
    "end\n",
    "mySum([0, 1, 2, 3])"
   ]
  },
  {
   "cell_type": "markdown",
   "metadata": {
    "hideCode": false,
    "hidePrompt": false,
    "slideshow": {
     "slide_type": "slide"
    }
   },
   "source": [
    "Let's use our summation function to sum a series of numbers from 1 to 10.\n",
    "\n",
    "$$\n",
    "\\sum _{i=1}^{10} i\n",
    "$$"
   ]
  },
  {
   "cell_type": "code",
   "execution_count": 14,
   "metadata": {
    "hideCode": false,
    "hidePrompt": false,
    "scrolled": true
   },
   "outputs": [
    {
     "name": "stdout",
     "output_type": "stream",
     "text": [
      "i =\n",
      "\n",
      "    1    2    3    4    5    6    7    8    9   10\n",
      "\n",
      "ans =  55\n",
      "ans =  55\n"
     ]
    }
   ],
   "source": [
    "i = 1:1:10\n",
    "sum(i)\n",
    "mySum(i)"
   ]
  },
  {
   "cell_type": "markdown",
   "metadata": {
    "hideCode": false,
    "hidePrompt": false,
    "slideshow": {
     "slide_type": "slide"
    }
   },
   "source": [
    "## Your turn\n",
    "\n",
    "Create a function, `Integrate`, that computes the definite integral with trapezoidal rule from the lower bound, `a`, to an upper bound, `b`, with a spacing, `dx`. See [here](https://en.wikipedia.org/wiki/Trapezoidal_rule) for trapezoidal rule theory.\n",
    "\\begin{align}\n",
    "I &= \\int_a^b f(x) dx \\\\\n",
    "  &\\approx \\frac{1}{2} \\Delta x \\left[ f(a) + 2\\sum_{i=1}^{n-2} f(x_i) + f(b) \\right]\n",
    "\\end{align}\n",
    "\n",
    "where $x_i = a + i \\Delta x$, $\\Delta x=\\frac{b-a}{n}$, and $i=[1, 2, ..., n-2]$."
   ]
  },
  {
   "cell_type": "code",
   "execution_count": 2,
   "metadata": {
    "hideCode": false,
    "hidePrompt": false,
    "slideshow": {
     "slide_type": "subslide"
    }
   },
   "outputs": [
    {
     "name": "stdout",
     "output_type": "stream",
     "text": [
      "ans =  0.45931\n",
      "ans =  0.45931\n"
     ]
    }
   ],
   "source": [
    "function [I] = Integrate(f, a, b, Nsegments)\n",
    "    Npts = Nsegments + 1;\n",
    "    dx = (b - a)/(Nsegments);\n",
    "    i = 1:Npts-2;\n",
    "    xi = a + i*dx;\n",
    "    I = 0.5 * dx * ( f(a) + 2*sum( f(xi) ) + f(b) );\n",
    "end\n",
    "\n",
    "% Some code verification\n",
    "f = @(x) sin(x);\n",
    "Integrate(f, 0, 1, 10) % our function\n",
    "x = 0:0.1:1;\n",
    "trapz(x, f(x))         % built-in function to compare output"
   ]
  },
  {
   "cell_type": "markdown",
   "metadata": {
    "hideCode": false,
    "hidePrompt": false
   },
   "source": [
    "Link to next [Notebook](Plotting.ipynb)"
   ]
  }
 ],
 "metadata": {
  "celltoolbar": "Slideshow",
  "hide_code_all_hidden": false,
  "kernelspec": {
   "display_name": "Octave",
   "language": "octave",
   "name": "octave"
  },
  "language_info": {
   "file_extension": ".m",
   "help_links": [
    {
     "text": "GNU Octave",
     "url": "https://www.gnu.org/software/octave/support.html"
    },
    {
     "text": "Octave Kernel",
     "url": "https://github.com/Calysto/octave_kernel"
    },
    {
     "text": "MetaKernel Magics",
     "url": "https://github.com/calysto/metakernel/blob/master/metakernel/magics/README.md"
    }
   ],
   "mimetype": "text/x-octave",
   "name": "octave",
   "version": "4.2.2"
  },
  "rise": {
   "autolaunch": true,
   "scroll": true,
   "theme": "simple"
  }
 },
 "nbformat": 4,
 "nbformat_minor": 1
}

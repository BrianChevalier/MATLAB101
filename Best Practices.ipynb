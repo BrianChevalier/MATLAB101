{
 "cells": [
  {
   "cell_type": "markdown",
   "metadata": {},
   "source": [
    "# MATLAB Best Practices and Tips\n",
    "* Use longer descriptive variable names\n",
    "* Use built-in functions wherever possible\n",
    "    * If you can't, write your own function\n",
    "    * The code you *don't* write can't have bugs\n",
    "* Use spacing and indentation to make code easier to read\n",
    "* Break up long statements to multiple variables\n",
    "* Try out code in the command window!"
   ]
  },
  {
   "cell_type": "markdown",
   "metadata": {},
   "source": [
    "```octave\n",
    "% Anonymous Function\n",
    "myFunction = @(input) outputStatement;\n",
    "```\n",
    "\n",
    "```octave\n",
    "% Regular Function\n",
    "function [output] = functionName(input)\n",
    "    output = input;\n",
    "end\n",
    "```"
   ]
  }
 ],
 "metadata": {
  "kernelspec": {
   "display_name": "Octave",
   "language": "octave",
   "name": "octave"
  },
  "language_info": {
   "file_extension": ".m",
   "help_links": [
    {
     "text": "GNU Octave",
     "url": "https://www.gnu.org/software/octave/support.html"
    },
    {
     "text": "Octave Kernel",
     "url": "https://github.com/Calysto/octave_kernel"
    },
    {
     "text": "MetaKernel Magics",
     "url": "https://metakernel.readthedocs.io/en/latest/source/README.html"
    }
   ],
   "mimetype": "text/x-octave",
   "name": "octave",
   "version": "5.2.0"
  }
 },
 "nbformat": 4,
 "nbformat_minor": 2
}

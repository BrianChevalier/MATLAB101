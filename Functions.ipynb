{
 "cells": [
  {
   "cell_type": "markdown",
   "metadata": {
    "hideCode": false,
    "hidePrompt": false,
    "slideshow": {
     "slide_type": "slide"
    }
   },
   "source": [
    "# FSETC Workshops: Introduction to Functions in MATLAB\n",
    "*Functions* are a way for programmers to generalize some piece of code so that it can be reused. Functions isolate the implementation details and variables used from your main program.\n",
    "\n",
    "<p style=\"color: gray; padding-top: 1cm;text-align: center;\">▶️Press the spacebar to continue</p>"
   ]
  },
  {
   "cell_type": "markdown",
   "metadata": {
    "hideCode": false,
    "hidePrompt": false,
    "slideshow": {
     "slide_type": "slide"
    }
   },
   "source": [
    "## Anonymous Functions\n",
    "*Anonymous functions* are the simplest possible function. They can only be on one line, and therefore can only be one executable statement. The following creates an anonymous function called `func`, that takes one input called `input`. Read the full documentation [here](https://www.mathworks.com/help/matlab/matlab_prog/anonymous-functions.html).\n",
    "\n",
    "\n",
    "```octave\n",
    "func = @(input) outputStatement;\n",
    "```"
   ]
  },
  {
   "cell_type": "markdown",
   "metadata": {
    "hideCode": false,
    "hidePrompt": false,
    "slideshow": {
     "slide_type": "subslide"
    }
   },
   "source": [
    "### Example\n",
    "Let's create a function that computes the square of the input."
   ]
  },
  {
   "cell_type": "code",
   "execution_count": 4,
   "metadata": {
    "hideCode": false,
    "hidePrompt": false,
    "scrolled": true,
    "slideshow": {
     "slide_type": "-"
    }
   },
   "outputs": [
    {
     "name": "stdout",
     "output_type": "stream",
     "text": [
      "ans =  14.012\n"
     ]
    }
   ],
   "source": [
    "f = @(x) sin(3*x) + 15;\n",
    "f(10)"
   ]
  },
  {
   "cell_type": "markdown",
   "metadata": {
    "hideCode": false,
    "hidePrompt": false,
    "slideshow": {
     "slide_type": "subslide"
    }
   },
   "source": [
    "### What's the deal with the `.`?\n",
    "* MATLAB defaults all operations to matrix operations\n",
    "* If we want to square all the elements in a list, use the `dot` to do element-wise operations\n",
    "(Visual to show the difference)"
   ]
  },
  {
   "cell_type": "code",
   "execution_count": 18,
   "metadata": {
    "hideCode": false,
    "hidePrompt": false
   },
   "outputs": [
    {
     "name": "stdout",
     "output_type": "stream",
     "text": [
      "ans =\n",
      "\n",
      "    1    4   25\n",
      "\n"
     ]
    }
   ],
   "source": [
    "f = @(x) x.^2;\n",
    "f([1, 2, 5])"
   ]
  },
  {
   "cell_type": "markdown",
   "metadata": {},
   "source": [
    "### Combining Anonymous Functions\n",
    "There are times when we might want to combine multiple anonymous functions."
   ]
  },
  {
   "cell_type": "markdown",
   "metadata": {
    "hideCode": false,
    "hidePrompt": false,
    "slideshow": {
     "slide_type": "slide"
    }
   },
   "source": [
    "## Regular Functions\n",
    "* The following is the MATLAB syntax for defining a function. You can see the full documentation [here](https://www.mathworks.com/help/matlab/ref/function.html)\n",
    "* Variables within a function are limited to the scope of the function\n",
    "\n",
    "```octave\n",
    "function [output] = functionName(input)\n",
    "    output = %set function output\n",
    "end\n",
    "```"
   ]
  },
  {
   "cell_type": "markdown",
   "metadata": {
    "hideCode": false,
    "hidePrompt": false,
    "slideshow": {
     "slide_type": "subslide"
    }
   },
   "source": [
    "### Example: Addition\n",
    "Let's define a very simple function that adds two input arguments. The function will be called `add`. The function will take two input arguments, `a` and `b`, and will return the result, `c`. Arguments are passed by position."
   ]
  },
  {
   "cell_type": "code",
   "execution_count": 20,
   "metadata": {
    "hideCode": false,
    "hidePrompt": false,
    "scrolled": true
   },
   "outputs": [
    {
     "name": "stdout",
     "output_type": "stream",
     "text": [
      "ans =  3\n"
     ]
    }
   ],
   "source": [
    "function [c] = add(a, b)\n",
    "    c = a + b;\n",
    "end\n",
    "add(1, 2)"
   ]
  },
  {
   "cell_type": "markdown",
   "metadata": {
    "hideCode": false,
    "hidePrompt": false,
    "slideshow": {
     "slide_type": "subslide"
    }
   },
   "source": [
    "### Example: Summation\n",
    "Let's create a function that will sum all of the elements of a vector. The function is:\n",
    "$$\n",
    "\\sum_{i=1}^N x_i\n",
    "$$\n",
    "\n",
    "where $N$ is the number of elements and $x_i$ is the $i$th element of the vector $x$."
   ]
  },
  {
   "cell_type": "code",
   "execution_count": 1,
   "metadata": {
    "hideCode": false,
    "hidePrompt": false
   },
   "outputs": [
    {
     "name": "stdout",
     "output_type": "stream",
     "text": [
      "ans =  6\n"
     ]
    }
   ],
   "source": [
    "function [total] = mySum(items)\n",
    "    total = 0; % Initialize the summation\n",
    "    for i = 1:length(items)\n",
    "        total = total + items(i); % get the ith item; add to the total\n",
    "    end\n",
    "end\n",
    "mySum([0, 1, 2, 3])"
   ]
  },
  {
   "cell_type": "markdown",
   "metadata": {
    "slideshow": {
     "slide_type": "subslide"
    }
   },
   "source": [
    "### Multiple Return Values\n",
    "* Functions can return more than one piece of data\n",
    "* The variable name used when called doesn't matter"
   ]
  },
  {
   "cell_type": "code",
   "execution_count": 10,
   "metadata": {
    "scrolled": true
   },
   "outputs": [
    {
     "name": "stdout",
     "output_type": "stream",
     "text": [
      "out1 =  3\n",
      "out2 =  1\n"
     ]
    }
   ],
   "source": [
    "function [total, mean] = stats(values)\n",
    "    total = sum(values);\n",
    "    mean = total/length(values);\n",
    "end\n",
    "[out1, out2] = stats([0, 1, 2])"
   ]
  },
  {
   "cell_type": "markdown",
   "metadata": {
    "hideCode": false,
    "hidePrompt": false,
    "slideshow": {
     "slide_type": "slide"
    }
   },
   "source": [
    "## Your turn\n",
    "\n",
    "Create a function, `Integrate`, that computes the definite integral with trapezoidal rule from the lower bound, `a`, to an upper bound, `b`, with a spacing, `dx`. See [here](https://en.wikipedia.org/wiki/Trapezoidal_rule) for trapezoidal rule theory.\n",
    "\\begin{align}\n",
    "I &= \\int_a^b f(x) dx \\\\\n",
    "  &\\approx \\frac{1}{2} \\Delta x \\left[ f(a) + 2\\sum_{i=1}^{n-2} f(x_i) + f(b) \\right]\n",
    "\\end{align}\n",
    "\n",
    "where $x_i = a + i \\Delta x$, $\\Delta x=\\frac{b-a}{n}$, and $i=[1, 2, ..., n-2]$."
   ]
  },
  {
   "cell_type": "code",
   "execution_count": 10,
   "metadata": {
    "hideCode": false,
    "hidePrompt": false,
    "scrolled": true,
    "slideshow": {
     "slide_type": "subslide"
    }
   },
   "outputs": [
    {
     "name": "stdout",
     "output_type": "stream",
     "text": [
      "ans =  0.45931\n"
     ]
    }
   ],
   "source": [
    "function [I] = Integrate(f, a, b, Nsegments)\n",
    "    % Describe function here\n",
    "    \n",
    "end\n",
    "\n",
    "% Some code verification\n",
    "f = @(x) sin(x);\n",
    "Integrate(f, 0, 1, 10) % our function\n",
    "x = 0:0.1:1;\n",
    "trapz(x, f(x))         % built-in function to compare output"
   ]
  },
  {
   "cell_type": "markdown",
   "metadata": {
    "slideshow": {
     "slide_type": "slide"
    }
   },
   "source": [
    "## Important [Gotchas](https://en.wikipedia.org/wiki/Gotcha_(programming))\n",
    "* MATLAB functions should be in a separate file and the function name should match the name of the file.\n",
    "* You can't directly run a MATLAB function, because they require inputs.\n",
    "* Local functions (only available with the current script) can be added to the bottom of script files; no other code can follow it.\n",
    "* Function names cannot have paretheses, spaces, etc."
   ]
  },
  {
   "cell_type": "markdown",
   "metadata": {
    "hideCode": false,
    "hidePrompt": false,
    "slideshow": {
     "slide_type": "slide"
    }
   },
   "source": [
    "## More Notebooks\n",
    "[Click here to see a list of topics to explore.](Welcome.ipynb#/slide-2-0)"
   ]
  }
 ],
 "metadata": {
  "celltoolbar": "Slideshow",
  "hide_code_all_hidden": false,
  "kernelspec": {
   "display_name": "Octave",
   "language": "octave",
   "name": "octave"
  },
  "language_info": {
   "file_extension": ".m",
   "help_links": [
    {
     "text": "GNU Octave",
     "url": "https://www.gnu.org/software/octave/support.html"
    },
    {
     "text": "Octave Kernel",
     "url": "https://github.com/Calysto/octave_kernel"
    },
    {
     "text": "MetaKernel Magics",
     "url": "https://github.com/calysto/metakernel/blob/master/metakernel/magics/README.md"
    }
   ],
   "mimetype": "text/x-octave",
   "name": "octave",
   "version": "4.2.2"
  },
  "rise": {
   "autolaunch": true,
   "scroll": true,
   "theme": "simple"
  }
 },
 "nbformat": 4,
 "nbformat_minor": 1
}

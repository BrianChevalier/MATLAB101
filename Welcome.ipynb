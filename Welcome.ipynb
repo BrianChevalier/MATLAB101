{
 "cells": [
  {
   "cell_type": "markdown",
   "metadata": {
    "slideshow": {
     "slide_type": "slide"
    }
   },
   "source": [
    "## Welcome to MATLAB101\n",
    "\n",
    "Hit the space bar, swipe up, or click the down arrow in the bottom right to continue.\n",
    "<center>\n",
    "    Go to: <a href=\"https://tinyurl.com/r9923cg\"> tinyurl.com/r9923cg </a>\n",
    "</center>\n",
    "<p style=\"color: gray; padding-top: 0.25cm;text-align: center;\">▶️Press the spacebar to continue</p>"
   ]
  },
  {
   "cell_type": "markdown",
   "metadata": {
    "slideshow": {
     "slide_type": "subslide"
    }
   },
   "source": [
    "### This is a subslide\n",
    "* You can navigate the slide/subslide hierarchy using the arrow buttons in the bottom right corner"
   ]
  },
  {
   "cell_type": "markdown",
   "metadata": {
    "slideshow": {
     "slide_type": "slide"
    }
   },
   "source": [
    "## Running Code\n",
    "* Run code by selecting the following cell and hitting  <font color=\"blue\">shift-enter</font> at the same time.\n",
    "* The number at the left tells you the execution order of code\n",
    "    * Code cells can be run in any order"
   ]
  },
  {
   "cell_type": "code",
   "execution_count": 6,
   "metadata": {
    "scrolled": false,
    "slideshow": {
     "slide_type": "-"
    }
   },
   "outputs": [
    {
     "name": "stdout",
     "output_type": "stream",
     "text": [
      "Hello world!\n"
     ]
    }
   ],
   "source": [
    "disp(\"Hello world!\")"
   ]
  },
  {
   "cell_type": "markdown",
   "metadata": {
    "slideshow": {
     "slide_type": "subslide"
    }
   },
   "source": [
    "### These slides are interactive!\n",
    "All code is live and editable; try changing the text below!"
   ]
  },
  {
   "cell_type": "code",
   "execution_count": 5,
   "metadata": {},
   "outputs": [
    {
     "name": "stdout",
     "output_type": "stream",
     "text": [
      "Hello world!\n"
     ]
    }
   ],
   "source": [
    "disp(\"Hello world!\")"
   ]
  },
  {
   "cell_type": "markdown",
   "metadata": {
    "slideshow": {
     "slide_type": "slide"
    }
   },
   "source": [
    "# Table of Contents"
   ]
  },
  {
   "cell_type": "markdown",
   "metadata": {},
   "source": [
    "* [Basics](Basics.ipynb)\n",
    "* [Functions](Functions.ipynb)\n",
    "* [Matrix Indexing](Matrix%20Indexing.ipynb)\n",
    "* [Plotting](Plotting.ipynb)\n",
    "* [Printing](Printing.ipynb)\n",
    "* [Building Matricies](Building%20Matricies.ipynb)"
   ]
  }
 ],
 "metadata": {
  "celltoolbar": "Slideshow",
  "kernelspec": {
   "display_name": "Octave",
   "language": "octave",
   "name": "octave"
  },
  "language_info": {
   "file_extension": ".m",
   "help_links": [
    {
     "text": "GNU Octave",
     "url": "https://www.gnu.org/software/octave/support.html"
    },
    {
     "text": "Octave Kernel",
     "url": "https://github.com/Calysto/octave_kernel"
    },
    {
     "text": "MetaKernel Magics",
     "url": "https://github.com/calysto/metakernel/blob/master/metakernel/magics/README.md"
    }
   ],
   "mimetype": "text/x-octave",
   "name": "octave",
   "version": "4.2.2"
  },
  "rise": {
   "autolaunch": true,
   "scroll": true,
   "theme": "simple"
  }
 },
 "nbformat": 4,
 "nbformat_minor": 1
}

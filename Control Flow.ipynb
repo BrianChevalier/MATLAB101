{
 "cells": [
  {
   "cell_type": "markdown",
   "metadata": {
    "slideshow": {
     "slide_type": "slide"
    }
   },
   "source": [
    "# Control Flow\n",
    "\n",
    "[`Control Flow`](https://en.wikipedia.org/wiki/Control_flow) is the way that a programmer instructs a computer to operate on data and make decisions. This includes `for` loops, `while loops`, `if statements` and `switch-case` statements.\n",
    "\n",
    "<p style=\"color: gray; padding-top: 1cm;text-align: center;\">▶️Press the spacebar to continue</p>"
   ]
  },
  {
   "cell_type": "markdown",
   "metadata": {
    "slideshow": {
     "slide_type": "slide"
    }
   },
   "source": [
    "## For Loops\n",
    "\n",
    "* A `for` loop is used to operate on data of a known size.\n",
    "* The iteration variable will be updated automatically, you don't need to set it!\n",
    "* The list of values is usually created using [colon (`:`)](https://www.mathworks.com/help/matlab/ref/colon.html) notation\n",
    "\n",
    "```octave\n",
    "for item = list\n",
    "    % statements\n",
    "end\n",
    "```"
   ]
  },
  {
   "cell_type": "markdown",
   "metadata": {
    "slideshow": {
     "slide_type": "subslide"
    }
   },
   "source": [
    "### Example: Display numbers"
   ]
  },
  {
   "cell_type": "code",
   "execution_count": 3,
   "metadata": {
    "scrolled": false,
    "slideshow": {
     "slide_type": "-"
    }
   },
   "outputs": [
    {
     "name": "stdout",
     "output_type": "stream",
     "text": [
      "0\r\n",
      " 1\r\n",
      " 2\r\n",
      " 3\r\n",
      " 4\r\n",
      " 5\r\n"
     ]
    }
   ],
   "source": [
    "start = 0; step = 1; stop = 5;\n",
    "\n",
    "list = start:step:stop; %creates a vector using colon syntax\n",
    "\n",
    "% read this as:\n",
    "% 'for each item in list'\n",
    "for item = list\n",
    "    disp(item)\n",
    "end"
   ]
  },
  {
   "cell_type": "markdown",
   "metadata": {
    "slideshow": {
     "slide_type": "subslide"
    }
   },
   "source": [
    "### Your Turn\n",
    "* Sum all of the items in the following list using a for loop"
   ]
  },
  {
   "cell_type": "code",
   "execution_count": 2,
   "metadata": {},
   "outputs": [
    {
     "name": "stdout",
     "output_type": "stream",
     "text": [
      "0\r\n"
     ]
    }
   ],
   "source": [
    "items = [0, 1, 4, 9];\n",
    "total = 0;\n",
    "\n",
    "% do your for-loop here\n",
    "\n",
    "disp(total)"
   ]
  },
  {
   "cell_type": "markdown",
   "metadata": {
    "slideshow": {
     "slide_type": "subslide"
    }
   },
   "source": [
    "### Storage of values\n",
    "\n",
    "* A `for` loop does not automatically store or save anything\n",
    "    * You have to manually specify where to store computed values"
   ]
  },
  {
   "cell_type": "code",
   "execution_count": 14,
   "metadata": {
    "scrolled": false
   },
   "outputs": [
    {
     "name": "stdout",
     "output_type": "stream",
     "text": [
      "     1     4     9    16    25    36    49    64    81   100\n"
     ]
    }
   ],
   "source": [
    "myStorage = zeros(1, 10);  % create 1 row, 10 columns of zeros\n",
    "\n",
    "for i = 1:10\n",
    "    myStorage(i) = i^2;   % fill into spot i, i^2\n",
    "end\n",
    "\n",
    "disp(myStorage)"
   ]
  },
  {
   "cell_type": "markdown",
   "metadata": {
    "slideshow": {
     "slide_type": "subslide"
    }
   },
   "source": [
    "### Avoiding Loops\n",
    "\n",
    "* You can often avoid manually looping over elements and storing values\n",
    "* [Vectorizing](https://www.mathworks.com/help/matlab/matlab_prog/vectorization.html) code is *always* computationally faster, and less error prone\n",
    "* Use built-in functions where allowed, or write your own"
   ]
  },
  {
   "cell_type": "code",
   "execution_count": 13,
   "metadata": {},
   "outputs": [
    {
     "name": "stdout",
     "output_type": "stream",
     "text": [
      "ans =\n",
      "\n",
      "     1     4     9    16    25    36    49    64    81   100\n",
      "\n"
     ]
    }
   ],
   "source": [
    "% Equivalently we can use the element-wise operator; This is better!\n",
    "(1:10).^2"
   ]
  },
  {
   "cell_type": "markdown",
   "metadata": {
    "slideshow": {
     "slide_type": "slide"
    }
   },
   "source": [
    "## While Loops\n",
    "\n",
    "* A `while` loop is used to do some computation until a condition is no longer true\n",
    "* The condition *must* be updated in the loop or it will never end\n",
    "\n",
    "```octave\n",
    "while (condition)\n",
    "    % statements\n",
    "end\n",
    "```"
   ]
  },
  {
   "cell_type": "markdown",
   "metadata": {
    "slideshow": {
     "slide_type": "subslide"
    }
   },
   "source": [
    "### Example: Iterating to meet a tolerance\n",
    "* We can use a `while` loop to continue reducing an error until an acceptable amount is achieved"
   ]
  },
  {
   "cell_type": "code",
   "execution_count": 10,
   "metadata": {},
   "outputs": [],
   "source": [
    "Error = 1; tolerance = 0;\n",
    "\n",
    "% read this as: \n",
    "% 'while the error is greater than the tolerance, try to reduce the error'\n",
    "while (Error > tolerance)\n",
    "    Error = Error - 0.1;\n",
    "end"
   ]
  },
  {
   "cell_type": "markdown",
   "metadata": {
    "slideshow": {
     "slide_type": "subslide"
    }
   },
   "source": [
    "### Your Turn\n",
    "* Write a `while` loop that increases `age` until they can vote (21), then display the age."
   ]
  },
  {
   "cell_type": "code",
   "execution_count": 1,
   "metadata": {},
   "outputs": [],
   "source": [
    "age = 0;"
   ]
  },
  {
   "cell_type": "markdown",
   "metadata": {
    "slideshow": {
     "slide_type": "slide"
    }
   },
   "source": [
    "## If Statements\n",
    "\n",
    "* An `if` statement allows your program to make decisions\n",
    "* You can use relational operators and [logical operators](https://www.mathworks.com/help/matlab/logical-operations.html) to make comparisons\n",
    "\n",
    "```octave\n",
    "if (boolean)\n",
    "    %statement\n",
    "elseif (boolean)\n",
    "    %statement\n",
    "else\n",
    "    %statement\n",
    "end\n",
    "```"
   ]
  },
  {
   "cell_type": "markdown",
   "metadata": {
    "slideshow": {
     "slide_type": "subslide"
    }
   },
   "source": [
    "### Example\n",
    "\n",
    "Relational Operators:\n",
    "\n",
    "| Operator | Tests: |\n",
    "|:--|:--|\n",
    "| `==` | equality  |\n",
    "| `~=` | inequality  |\n",
    "| >  | greater than  |\n",
    "| >= | greater than or equal |\n",
    "| < | less than |\n",
    "| <= | less than or equal |\n",
    "\n",
    "Logical Operators:\n",
    "\n",
    "| Operator | Meaning: |\n",
    "|:--|:--|\n",
    "| `&&` | and  |\n",
    "| `\\|\\|` | or |\n",
    "| `~` | not |\n",
    "\n",
    "Note: be careful of using `==` for comparing floating point values"
   ]
  },
  {
   "cell_type": "code",
   "execution_count": 4,
   "metadata": {
    "scrolled": false
   },
   "outputs": [
    {
     "name": "stdout",
     "output_type": "stream",
     "text": [
      "ans = 0\r\n"
     ]
    }
   ],
   "source": [
    "% Beware.\n",
    "10e5 == 10^5"
   ]
  },
  {
   "cell_type": "code",
   "execution_count": 33,
   "metadata": {
    "scrolled": false
   },
   "outputs": [
    {
     "name": "stdout",
     "output_type": "stream",
     "text": [
      "ans = 0\n"
     ]
    }
   ],
   "source": [
    "a = [0, 1, 2];\n",
    "b = [0, 1, 2];"
   ]
  },
  {
   "cell_type": "markdown",
   "metadata": {
    "slideshow": {
     "slide_type": "slide"
    }
   },
   "source": [
    "## Switch-case Statements\n",
    "\n",
    "* `Switch` statements are like a simplified `if`\n",
    "* Choose from a predetermined set of options\n",
    "\n",
    "```octave\n",
    "switch (variable)\n",
    "    case (option)\n",
    "        %statement\n",
    "    case (option)\n",
    "        %statement\n",
    "    otherwise\n",
    "        %default statement\n",
    "end\n",
    "```"
   ]
  },
  {
   "cell_type": "markdown",
   "metadata": {
    "slideshow": {
     "slide_type": "subslide"
    }
   },
   "source": [
    "### Example\n",
    "* Below is an example of how to choose the value of a variable given a different variable."
   ]
  },
  {
   "cell_type": "code",
   "execution_count": 3,
   "metadata": {
    "scrolled": true
   },
   "outputs": [
    {
     "name": "stdout",
     "output_type": "stream",
     "text": [
      "boundary_condition =\r\n",
      "\r\n",
      "   0   0\r\n",
      "\r\n"
     ]
    }
   ],
   "source": [
    "boundary_type = 'fixed';\n",
    "\n",
    "switch boundary_type\n",
    "    case 'fixed'\n",
    "        boundary_condition = [0, 0]\n",
    "    case 'free'\n",
    "        boundary_condition = [1, 1]\n",
    "    otherwise\n",
    "        error('not a valid option')\n",
    "end"
   ]
  },
  {
   "cell_type": "markdown",
   "metadata": {
    "slideshow": {
     "slide_type": "slide"
    }
   },
   "source": [
    "# Table of Contents\n",
    "\n",
    "* [Basics](Basics.ipynb)\n",
    "* [Functions](Functions.ipynb)\n",
    "* [Control Flow](Control%20Flow.ipynb)\n",
    "* [Matrix Indexing](Matrix%20Indexing.ipynb)\n",
    "* [Plotting](Plotting.ipynb)\n",
    "* [Printing](Printing.ipynb)\n",
    "* [Building Matricies](Building%20Matricies.ipynb)"
   ]
  }
 ],
 "metadata": {
  "celltoolbar": "Slideshow",
  "kernelspec": {
   "display_name": "Octave",
   "language": "octave",
   "name": "octave"
  },
  "language_info": {
   "file_extension": ".m",
   "help_links": [
    {
     "text": "GNU Octave",
     "url": "https://www.gnu.org/software/octave/support.html"
    },
    {
     "text": "Octave Kernel",
     "url": "https://github.com/Calysto/octave_kernel"
    },
    {
     "text": "MetaKernel Magics",
     "url": "https://metakernel.readthedocs.io/en/latest/source/README.html"
    }
   ],
   "mimetype": "text/x-octave",
   "name": "octave",
   "version": "5.2.0"
  },
  "rise": {
   "autolaunch": true,
   "scroll": true,
   "theme": "simple"
  }
 },
 "nbformat": 4,
 "nbformat_minor": 4
}
